{
 "cells": [
  {
   "cell_type": "markdown",
   "metadata": {
    "colab_type": "text",
    "id": "qjQnu80ijCa-"
   },
   "source": [
    "# CNN + Generator_DataFrame"
   ]
  },
  {
   "cell_type": "code",
   "execution_count": 20,
   "metadata": {},
   "outputs": [
    {
     "name": "stdout",
     "output_type": "stream",
     "text": [
      "4 devices detect\n"
     ]
    }
   ],
   "source": [
    "import matplotlib.pyplot as plt\n",
    "import numpy as np\n",
    "import os\n",
    "import cv2\n",
    "import pandas as pd\n",
    "\n",
    "import tensorflow as tf\n",
    "physical_devices = tf.config.experimental.list_physical_devices('GPU')\n",
    "if len(physical_devices) > 0:\n",
    "    for i in range(len(physical_devices)):\n",
    "        tf.config.experimental.set_memory_growth(physical_devices[i], True)\n",
    "print(len(physical_devices), 'devices detect')"
   ]
  },
  {
   "cell_type": "markdown",
   "metadata": {
    "colab_type": "text",
    "id": "kxBu1rarjRU0"
   },
   "source": [
    "## 資料讀入及前處理"
   ]
  },
  {
   "cell_type": "code",
   "execution_count": 2,
   "metadata": {},
   "outputs": [],
   "source": [
    "datapath = \"./dataset\"\n",
    "datafile = os.path.join(datapath, 'simpson_datalist.csv')\n",
    "datalist = pd.read_csv(datafile, index_col=False)"
   ]
  },
  {
   "cell_type": "code",
   "execution_count": 3,
   "metadata": {},
   "outputs": [
    {
     "data": {
      "text/html": [
       "<div>\n",
       "<style scoped>\n",
       "    .dataframe tbody tr th:only-of-type {\n",
       "        vertical-align: middle;\n",
       "    }\n",
       "\n",
       "    .dataframe tbody tr th {\n",
       "        vertical-align: top;\n",
       "    }\n",
       "\n",
       "    .dataframe thead th {\n",
       "        text-align: right;\n",
       "    }\n",
       "</style>\n",
       "<table border=\"1\" class=\"dataframe\">\n",
       "  <thead>\n",
       "    <tr style=\"text-align: right;\">\n",
       "      <th></th>\n",
       "      <th>img_path</th>\n",
       "      <th>label</th>\n",
       "    </tr>\n",
       "  </thead>\n",
       "  <tbody>\n",
       "    <tr>\n",
       "      <th>0</th>\n",
       "      <td>./Simpson/selma_bouvier/pic_0043.jpg</td>\n",
       "      <td>selma_bouvier</td>\n",
       "    </tr>\n",
       "    <tr>\n",
       "      <th>1</th>\n",
       "      <td>./Simpson/selma_bouvier/pic_0086.jpg</td>\n",
       "      <td>selma_bouvier</td>\n",
       "    </tr>\n",
       "    <tr>\n",
       "      <th>2</th>\n",
       "      <td>./Simpson/selma_bouvier/pic_0003.jpg</td>\n",
       "      <td>selma_bouvier</td>\n",
       "    </tr>\n",
       "    <tr>\n",
       "      <th>3</th>\n",
       "      <td>./Simpson/selma_bouvier/pic_0035.jpg</td>\n",
       "      <td>selma_bouvier</td>\n",
       "    </tr>\n",
       "    <tr>\n",
       "      <th>4</th>\n",
       "      <td>./Simpson/selma_bouvier/pic_0012.jpg</td>\n",
       "      <td>selma_bouvier</td>\n",
       "    </tr>\n",
       "  </tbody>\n",
       "</table>\n",
       "</div>"
      ],
      "text/plain": [
       "                               img_path          label\n",
       "0  ./Simpson/selma_bouvier/pic_0043.jpg  selma_bouvier\n",
       "1  ./Simpson/selma_bouvier/pic_0086.jpg  selma_bouvier\n",
       "2  ./Simpson/selma_bouvier/pic_0003.jpg  selma_bouvier\n",
       "3  ./Simpson/selma_bouvier/pic_0035.jpg  selma_bouvier\n",
       "4  ./Simpson/selma_bouvier/pic_0012.jpg  selma_bouvier"
      ]
     },
     "execution_count": 3,
     "metadata": {},
     "output_type": "execute_result"
    }
   ],
   "source": [
    "datalist.head()"
   ]
  },
  {
   "cell_type": "code",
   "execution_count": 4,
   "metadata": {},
   "outputs": [],
   "source": [
    "# label 必須是 string\n",
    "def turningType(x):\n",
    "    return str(x)"
   ]
  },
  {
   "cell_type": "code",
   "execution_count": 5,
   "metadata": {},
   "outputs": [],
   "source": [
    "datalist['label'] = datalist['label'].apply(turningType)"
   ]
  },
  {
   "cell_type": "code",
   "execution_count": 6,
   "metadata": {},
   "outputs": [],
   "source": [
    "from sklearn.model_selection import train_test_split\n",
    "\n",
    "train_list, test_list = train_test_split(datalist, \n",
    "                                         test_size=0.1, \n",
    "                                         random_state=42, \n",
    "                                         stratify=datalist['label'].values)"
   ]
  },
  {
   "cell_type": "markdown",
   "metadata": {
    "colab_type": "text",
    "id": "hvxldzZ5jjpR"
   },
   "source": [
    "## 建立模型"
   ]
  },
  {
   "cell_type": "code",
   "execution_count": 7,
   "metadata": {
    "colab": {
     "base_uri": "https://localhost:8080/",
     "height": 34
    },
    "colab_type": "code",
    "executionInfo": {
     "elapsed": 2232,
     "status": "ok",
     "timestamp": 1563004415355,
     "user": {
      "displayName": "kinna kinna",
      "photoUrl": "",
      "userId": "09336290170720198249"
     },
     "user_tz": -480
    },
    "id": "vjFmupouR8XP",
    "outputId": "4d1befaa-3068-428f-bda3-2111a4575f54"
   },
   "outputs": [],
   "source": [
    "# import package\n",
    "import tensorflow.keras as keras\n",
    "from tensorflow.keras.preprocessing.image import ImageDataGenerator\n",
    "from tensorflow.keras.models import Model, load_model\n",
    "from tensorflow.keras.layers import Input, Dense, Dropout, Activation, Flatten, BatchNormalization, Conv2D, MaxPooling2D"
   ]
  },
  {
   "cell_type": "code",
   "execution_count": 8,
   "metadata": {
    "colab": {
     "base_uri": "https://localhost:8080/",
     "height": 34
    },
    "colab_type": "code",
    "executionInfo": {
     "elapsed": 3968,
     "status": "ok",
     "timestamp": 1563004417155,
     "user": {
      "displayName": "kinna kinna",
      "photoUrl": "",
      "userId": "09336290170720198249"
     },
     "user_tz": -480
    },
    "id": "GCIjH6hlSInp",
    "outputId": "977449e3-59e7-4796-f2e9-9363cb7ff8f3"
   },
   "outputs": [],
   "source": [
    "# Convert class vectors to binary class matrices.\n",
    "num_classes = 6\n",
    "img_size = 200"
   ]
  },
  {
   "cell_type": "code",
   "execution_count": 9,
   "metadata": {},
   "outputs": [],
   "source": [
    "inputs = Input(shape=(img_size, img_size, 3))\n",
    "\n",
    "x = Conv2D(32, (3, 3), padding='same', activation='relu')(inputs)\n",
    "x = Conv2D(32, (3, 3), padding='same', activation='relu')(x)\n",
    "x = MaxPooling2D(pool_size=(2, 2))(x)\n",
    "x = Dropout(0.25)(x)\n",
    "\n",
    "x = Conv2D(64, (3, 3), padding='same', activation='relu')(x)\n",
    "x = Conv2D(64, (3, 3), padding='same', activation='relu')(x)\n",
    "x = MaxPooling2D(pool_size=(2, 2))(x)\n",
    "x = Dropout(0.25)(x)\n",
    "\n",
    "x = Flatten()(x)\n",
    "x = Dense(512, activation='relu')(x)\n",
    "x = Dropout(0.25)(x)\n",
    "outputs = Dense(num_classes, activation='softmax')(x)\n",
    "\n",
    "\n",
    "model = Model(inputs=inputs, outputs=outputs)"
   ]
  },
  {
   "cell_type": "code",
   "execution_count": 10,
   "metadata": {},
   "outputs": [],
   "source": [
    "learning_rate = 0.0001\n",
    "batch_size = 32 \n",
    "epochs = 5\n",
    "\n",
    "optimizer = keras.optimizers.Adam(lr=learning_rate)"
   ]
  },
  {
   "cell_type": "code",
   "execution_count": 11,
   "metadata": {},
   "outputs": [],
   "source": [
    "model.compile(loss='categorical_crossentropy',\n",
    "              optimizer=optimizer,\n",
    "              metrics=['accuracy'])"
   ]
  },
  {
   "cell_type": "markdown",
   "metadata": {
    "colab_type": "text",
    "id": "w3ZbQfBhkKQ_"
   },
   "source": [
    "## Data augmentation"
   ]
  },
  {
   "cell_type": "code",
   "execution_count": 12,
   "metadata": {},
   "outputs": [],
   "source": [
    "train_datagen = ImageDataGenerator( \n",
    "                                    rescale=1./255,\n",
    "                                    rotation_range=10,\n",
    "                                    width_shift_range=0.05,\n",
    "                                    height_shift_range=0.05,\n",
    "                                    horizontal_flip=True,\n",
    "                                    vertical_flip=False,\n",
    "                                    fill_mode='wrap'\n",
    "                                 )\n",
    "test_datagen = ImageDataGenerator(rescale=1./255)"
   ]
  },
  {
   "cell_type": "code",
   "execution_count": 13,
   "metadata": {},
   "outputs": [
    {
     "data": {
      "text/html": [
       "<div>\n",
       "<style scoped>\n",
       "    .dataframe tbody tr th:only-of-type {\n",
       "        vertical-align: middle;\n",
       "    }\n",
       "\n",
       "    .dataframe tbody tr th {\n",
       "        vertical-align: top;\n",
       "    }\n",
       "\n",
       "    .dataframe thead th {\n",
       "        text-align: right;\n",
       "    }\n",
       "</style>\n",
       "<table border=\"1\" class=\"dataframe\">\n",
       "  <thead>\n",
       "    <tr style=\"text-align: right;\">\n",
       "      <th></th>\n",
       "      <th>img_path</th>\n",
       "      <th>label</th>\n",
       "    </tr>\n",
       "  </thead>\n",
       "  <tbody>\n",
       "    <tr>\n",
       "      <th>411</th>\n",
       "      <td>./Simpson/mayor_quimby/pic_0127.jpg</td>\n",
       "      <td>mayor_quimby</td>\n",
       "    </tr>\n",
       "    <tr>\n",
       "      <th>834</th>\n",
       "      <td>./Simpson/groundskeeper_willie/pic_0030.jpg</td>\n",
       "      <td>groundskeeper_willie</td>\n",
       "    </tr>\n",
       "    <tr>\n",
       "      <th>737</th>\n",
       "      <td>./Simpson/maggie_simpson/pic_0116.jpg</td>\n",
       "      <td>maggie_simpson</td>\n",
       "    </tr>\n",
       "    <tr>\n",
       "      <th>204</th>\n",
       "      <td>./Simpson/waylon_smithers/pic_0179.jpg</td>\n",
       "      <td>waylon_smithers</td>\n",
       "    </tr>\n",
       "    <tr>\n",
       "      <th>453</th>\n",
       "      <td>./Simpson/mayor_quimby/pic_0103.jpg</td>\n",
       "      <td>mayor_quimby</td>\n",
       "    </tr>\n",
       "  </tbody>\n",
       "</table>\n",
       "</div>"
      ],
      "text/plain": [
       "                                        img_path                 label\n",
       "411          ./Simpson/mayor_quimby/pic_0127.jpg          mayor_quimby\n",
       "834  ./Simpson/groundskeeper_willie/pic_0030.jpg  groundskeeper_willie\n",
       "737        ./Simpson/maggie_simpson/pic_0116.jpg        maggie_simpson\n",
       "204       ./Simpson/waylon_smithers/pic_0179.jpg       waylon_smithers\n",
       "453          ./Simpson/mayor_quimby/pic_0103.jpg          mayor_quimby"
      ]
     },
     "execution_count": 13,
     "metadata": {},
     "output_type": "execute_result"
    }
   ],
   "source": [
    "train_list.head()"
   ]
  },
  {
   "cell_type": "code",
   "execution_count": 14,
   "metadata": {},
   "outputs": [
    {
     "name": "stdout",
     "output_type": "stream",
     "text": [
      "Found 796 validated image filenames belonging to 6 classes.\n",
      "Found 89 validated image filenames belonging to 6 classes.\n"
     ]
    }
   ],
   "source": [
    "train_generator = train_datagen.flow_from_dataframe(\n",
    "                                                    dataframe=train_list,\n",
    "                                                    directory='dataset',\n",
    "                                                    x_col=\"img_path\",\n",
    "                                                    y_col=\"label\",\n",
    "                                                    target_size=(200, 200),\n",
    "                                                    batch_size=32,\n",
    "                                                    class_mode='categorical')\n",
    "\n",
    "valid_generator = test_datagen.flow_from_dataframe(\n",
    "                                                   dataframe=test_list,\n",
    "                                                   directory='dataset',\n",
    "                                                   x_col=\"img_path\",\n",
    "                                                   y_col=\"label\",\n",
    "                                                   target_size=(200, 200),\n",
    "                                                   batch_size=32,\n",
    "                                                   class_mode='categorical',\n",
    "                                                   shuffle=False)\n",
    "\n",
    "# Using on predicting unknown labeled data\n",
    "# test_generator = test_datagen.flow_from_dataframe(\n",
    "#                                                   dataframe=test_list,\n",
    "#                                                   directory='dataset',\n",
    "#                                                   x_col=\"img_path\",\n",
    "#                                                   target_size=(200, 200),\n",
    "#                                                   batch_size=32,\n",
    "#                                                   class_mode=None,\n",
    "#                                                   shuffle=False)"
   ]
  },
  {
   "cell_type": "code",
   "execution_count": 15,
   "metadata": {},
   "outputs": [
    {
     "data": {
      "text/plain": [
       "{'barney_gumble': 0,\n",
       " 'groundskeeper_willie': 1,\n",
       " 'maggie_simpson': 2,\n",
       " 'mayor_quimby': 3,\n",
       " 'selma_bouvier': 4,\n",
       " 'waylon_smithers': 5}"
      ]
     },
     "execution_count": 15,
     "metadata": {},
     "output_type": "execute_result"
    }
   ],
   "source": [
    "train_generator.class_indices"
   ]
  },
  {
   "cell_type": "markdown",
   "metadata": {},
   "source": [
    "## 開始訓練模型 "
   ]
  },
  {
   "cell_type": "code",
   "execution_count": 16,
   "metadata": {
    "colab": {
     "base_uri": "https://localhost:8080/",
     "height": 652
    },
    "colab_type": "code",
    "executionInfo": {
     "elapsed": 100495,
     "status": "ok",
     "timestamp": 1563004635167,
     "user": {
      "displayName": "kinna kinna",
      "photoUrl": "",
      "userId": "09336290170720198249"
     },
     "user_tz": -480
    },
    "id": "dQ8rNZ9Cd7Ba",
    "outputId": "621e7105-9428-4a9f-a51c-10054f1fe579"
   },
   "outputs": [
    {
     "name": "stdout",
     "output_type": "stream",
     "text": [
      "Epoch 1/5\n",
      "24/24 [==============================] - 11s 448ms/step - loss: 1.8329 - accuracy: 0.2605 - val_loss: 1.7125 - val_accuracy: 0.3708\n",
      "Epoch 2/5\n",
      "24/24 [==============================] - 10s 427ms/step - loss: 1.5782 - accuracy: 0.3555 - val_loss: 1.5395 - val_accuracy: 0.4607\n",
      "Epoch 3/5\n",
      "24/24 [==============================] - 10s 421ms/step - loss: 1.3742 - accuracy: 0.4895 - val_loss: 1.3452 - val_accuracy: 0.5281\n",
      "Epoch 4/5\n",
      "24/24 [==============================] - 10s 424ms/step - loss: 1.1590 - accuracy: 0.5759 - val_loss: 1.1555 - val_accuracy: 0.6180\n",
      "Epoch 5/5\n",
      "24/24 [==============================] - 10s 427ms/step - loss: 0.9904 - accuracy: 0.6636 - val_loss: 0.9938 - val_accuracy: 0.6629\n"
     ]
    }
   ],
   "source": [
    "history = model.fit_generator(train_generator,\n",
    "                               steps_per_epoch=train_list.shape[0] // batch_size,\n",
    "                               epochs=epochs,\n",
    "                               validation_data=valid_generator)"
   ]
  },
  {
   "cell_type": "code",
   "execution_count": 17,
   "metadata": {},
   "outputs": [
    {
     "name": "stdout",
     "output_type": "stream",
     "text": [
      "3/3 [==============================] - 1s 171ms/step - loss: 0.9938 - accuracy: 0.6629\n",
      "test loss, test acc: [0.9937920173009237, 0.66292137]\n"
     ]
    }
   ],
   "source": [
    "results = model.evaluate(valid_generator)\n",
    "print(\"test loss, test acc:\", results)"
   ]
  },
  {
   "cell_type": "markdown",
   "metadata": {},
   "source": [
    "### Confusion Matrix\n",
    "驗證集測試，查看混淆矩陣。混淆矩陣是機器學習中總結分類模型預測結果的情形分析表，以矩陣形式將數據集中的記錄按照真實的類別與分類模型預測的類別判斷兩個標准進行匯總。其中矩陣的行表示真實值，矩陣的列表示預測值。"
   ]
  },
  {
   "cell_type": "code",
   "execution_count": 18,
   "metadata": {},
   "outputs": [
    {
     "data": {
      "image/png": "[encoded data removed]",
      "text/plain": [
       "<Figure size 504x432 with 2 Axes>"
      ]
     },
     "metadata": {
      "needs_background": "light"
     },
     "output_type": "display_data"
    }
   ],
   "source": [
    "from sklearn.metrics import confusion_matrix\n",
    "import numpy as np\n",
    "import seaborn as sns\n",
    "\n",
    "## plot confusion matrix\n",
    "y_preds = model.predict(valid_generator)\n",
    "y_preds = np.argmax(y_preds, axis=1)\n",
    "y_trues = valid_generator.classes\n",
    "cm = confusion_matrix(y_trues, y_preds)\n",
    "\n",
    "fig, ax = plt.subplots(figsize=(7, 6))\n",
    "\n",
    "sns.heatmap(cm, annot=True, fmt='d', cmap='Blues', cbar_kws={'shrink': .3}, linewidths=.1, ax=ax)\n",
    "\n",
    "ax.set(\n",
    "    xticklabels=list(valid_generator.class_indices.keys()),\n",
    "    yticklabels=list(valid_generator.class_indices.keys()),\n",
    "    title='confusion matrix',\n",
    "    ylabel='True label',\n",
    "    xlabel='Predicted label'\n",
    ")\n",
    "params = dict(rotation=45, ha='center', rotation_mode='anchor')\n",
    "plt.setp(ax.get_yticklabels(), **params)\n",
    "plt.setp(ax.get_xticklabels(), **params)\n",
    "plt.show()"
   ]
  },
  {
   "cell_type": "code",
   "execution_count": 19,
   "metadata": {},
   "outputs": [
    {
     "name": "stdout",
     "output_type": "stream",
     "text": [
      "Aaccuracy:  0.6629213483146067\n"
     ]
    }
   ],
   "source": [
    "from sklearn.metrics import accuracy_score\n",
    "y_trues = valid_generator.classes\n",
    "y_preds = model.predict(valid_generator)\n",
    "y_preds = np.argmax(y_preds, axis=1)\n",
    "\n",
    "\n",
    "print(\"Aaccuracy: \",accuracy_score(y_preds, y_trues))"
   ]
  },
  {
   "cell_type": "code",
   "execution_count": null,
   "metadata": {},
   "outputs": [],
   "source": []
  }
 ],
 "metadata": {
  "accelerator": "GPU",
  "colab": {
   "collapsed_sections": [],
   "name": "ex2_CNN_data_augmentation.ipynb",
   "provenance": [
    {
     "file_id": "1bd-jwbe3Aa6UrLK-LzlCQahQvNxcNOab",
     "timestamp": 1553100300184
    }
   ],
   "version": "0.3.2"
  },
  "kernelspec": {
   "display_name": "Python 3",
   "language": "python",
   "name": "python3"
  },
  "language_info": {
   "codemirror_mode": {
    "name": "ipython",
    "version": 3
   },
   "file_extension": ".py",
   "mimetype": "text/x-python",
   "name": "python",
   "nbconvert_exporter": "python",
   "pygments_lexer": "ipython3",
   "version": "3.7.3"
  }
 },
 "nbformat": 4,
 "nbformat_minor": 4
}
